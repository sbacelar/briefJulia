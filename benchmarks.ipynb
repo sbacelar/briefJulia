{
 "cells": [
  {
   "cell_type": "markdown",
   "id": "6bcba37c",
   "metadata": {},
   "source": [
    "# Benchmarks"
   ]
  },
  {
   "cell_type": "markdown",
   "id": "10f74957",
   "metadata": {},
   "source": [
    "## Julia"
   ]
  },
  {
   "cell_type": "code",
   "execution_count": 15,
   "id": "0f5a2c12",
   "metadata": {},
   "outputs": [
    {
     "data": {
      "text/plain": [
       "MersenneTwister(123)"
      ]
     },
     "execution_count": 15,
     "metadata": {},
     "output_type": "execute_result"
    }
   ],
   "source": [
    "using Random # standard library\n",
    "Random.seed!(123) # seed"
   ]
  },
  {
   "cell_type": "code",
   "execution_count": 16,
   "id": "6d1f49c2",
   "metadata": {},
   "outputs": [
    {
     "name": "stdout",
     "output_type": "stream",
     "text": [
      "  0.001450 seconds (1 allocation: 16 bytes)\n"
     ]
    },
    {
     "data": {
      "text/plain": [
       "500060.34072352527"
      ]
     },
     "execution_count": 16,
     "metadata": {},
     "output_type": "execute_result"
    }
   ],
   "source": [
    "x = rand(1_000_000) # 1 million random numbers in [0, 1)\n",
    "\n",
    "@time sum(x) # first run includes compilation time"
   ]
  },
  {
   "cell_type": "code",
   "execution_count": 17,
   "id": "7cb0f791",
   "metadata": {},
   "outputs": [
    {
     "data": {
      "text/plain": [
       "BenchmarkTools.Trial: \n",
       "  memory estimate:  0 bytes\n",
       "  allocs estimate:  0\n",
       "  --------------\n",
       "  minimum time:     522.901 μs (0.00% GC)\n",
       "  median time:      529.320 μs (0.00% GC)\n",
       "  mean time:        554.905 μs (0.00% GC)\n",
       "  maximum time:     5.327 ms (0.00% GC)\n",
       "  --------------\n",
       "  samples:          8716\n",
       "  evals/sample:     1"
      ]
     },
     "execution_count": 17,
     "metadata": {},
     "output_type": "execute_result"
    }
   ],
   "source": [
    "using BenchmarkTools\n",
    "\n",
    "bm = @benchmark sum($x)"
   ]
  },
  {
   "cell_type": "code",
   "execution_count": 18,
   "id": "8c3ff59f",
   "metadata": {},
   "outputs": [
    {
     "data": {
      "text/plain": [
       "0.52932"
      ]
     },
     "execution_count": 18,
     "metadata": {},
     "output_type": "execute_result"
    }
   ],
   "source": [
    "using Statistics # standard library\n",
    "benchmark_result = Dict() # a dictionary to store median runtime (in milliseconds)\n",
    "benchmark_result[\"Julia builtin\"] = median(bm.times) / 1e6"
   ]
  },
  {
   "cell_type": "markdown",
   "id": "dead8f7a",
   "metadata": {},
   "source": [
    "## R"
   ]
  },
  {
   "cell_type": "code",
   "execution_count": 19,
   "id": "b905868e",
   "metadata": {},
   "outputs": [],
   "source": [
    "using RCall"
   ]
  },
  {
   "cell_type": "code",
   "execution_count": 20,
   "id": "5538d878",
   "metadata": {},
   "outputs": [
    {
     "data": {
      "text/plain": [
       "RObject{VecSxp}\n",
       "Unit: milliseconds\n",
       "   expr     min       lq     mean   median       uq      max neval\n",
       " sum(y) 2.47414 2.525721 2.784311 2.620521 2.910491 4.683505   100\n"
      ]
     },
     "execution_count": 20,
     "metadata": {},
     "output_type": "execute_result"
    }
   ],
   "source": [
    "R\"\"\"\n",
    "library(microbenchmark)\n",
    "y <- $x\n",
    "rbm <- microbenchmark(sum(y))\n",
    "\"\"\""
   ]
  },
  {
   "cell_type": "code",
   "execution_count": 21,
   "id": "7090e5c8",
   "metadata": {},
   "outputs": [
    {
     "data": {
      "text/plain": [
       "2.6205205"
      ]
     },
     "execution_count": 21,
     "metadata": {},
     "output_type": "execute_result"
    }
   ],
   "source": [
    "# store median runtime (in milliseconds)\n",
    "@rget rbm # dataframe\n",
    "benchmark_result[\"R builtin\"] = median(rbm[!,:time]) / 1e6"
   ]
  },
  {
   "cell_type": "markdown",
   "id": "99fc5cb8",
   "metadata": {},
   "source": [
    "## Python"
   ]
  },
  {
   "cell_type": "code",
   "execution_count": 22,
   "id": "22926e45",
   "metadata": {},
   "outputs": [
    {
     "data": {
      "text/plain": [
       "v\"3.8.8\""
      ]
     },
     "execution_count": 22,
     "metadata": {},
     "output_type": "execute_result"
    }
   ],
   "source": [
    "using PyCall\n",
    "PyCall.pyversion"
   ]
  },
  {
   "cell_type": "code",
   "execution_count": 23,
   "id": "75fc202d",
   "metadata": {},
   "outputs": [
    {
     "data": {
      "text/plain": [
       "BenchmarkTools.Trial: \n",
       "  memory estimate:  336 bytes\n",
       "  allocs estimate:  6\n",
       "  --------------\n",
       "  minimum time:     84.460 ms (0.00% GC)\n",
       "  median time:      85.512 ms (0.00% GC)\n",
       "  mean time:        91.321 ms (0.00% GC)\n",
       "  maximum time:     153.004 ms (0.00% GC)\n",
       "  --------------\n",
       "  samples:          55\n",
       "  evals/sample:     1"
      ]
     },
     "execution_count": 23,
     "metadata": {},
     "output_type": "execute_result"
    }
   ],
   "source": [
    "# get the Python built-in \"sum\" function:\n",
    "pysum = pybuiltin(\"sum\")\n",
    "bm = @benchmark $pysum($x)"
   ]
  },
  {
   "cell_type": "code",
   "execution_count": 24,
   "id": "761ba6da",
   "metadata": {},
   "outputs": [
    {
     "data": {
      "text/plain": [
       "85.512465"
      ]
     },
     "execution_count": 24,
     "metadata": {},
     "output_type": "execute_result"
    }
   ],
   "source": [
    "# store median runtime (in miliseconds)\n",
    "benchmark_result[\"Python builtin\"] = median(bm.times) / 1e6"
   ]
  },
  {
   "cell_type": "markdown",
   "id": "ba7700ea",
   "metadata": {},
   "source": [
    "### Python numpy"
   ]
  },
  {
   "cell_type": "code",
   "execution_count": 25,
   "id": "da92a3a0",
   "metadata": {},
   "outputs": [
    {
     "data": {
      "text/plain": [
       "PyObject <function sum at 0x7fbbff18b160>"
      ]
     },
     "execution_count": 25,
     "metadata": {},
     "output_type": "execute_result"
    }
   ],
   "source": [
    "# bring in sum function from Numpy \n",
    "numpy_sum = pyimport(\"numpy\").\"sum\""
   ]
  },
  {
   "cell_type": "code",
   "execution_count": 26,
   "id": "4f1d98ac",
   "metadata": {},
   "outputs": [
    {
     "data": {
      "text/plain": [
       "BenchmarkTools.Trial: \n",
       "  memory estimate:  336 bytes\n",
       "  allocs estimate:  6\n",
       "  --------------\n",
       "  minimum time:     553.477 μs (0.00% GC)\n",
       "  median time:      586.629 μs (0.00% GC)\n",
       "  mean time:        620.064 μs (0.00% GC)\n",
       "  maximum time:     9.070 ms (0.00% GC)\n",
       "  --------------\n",
       "  samples:          7814\n",
       "  evals/sample:     1"
      ]
     },
     "execution_count": 26,
     "metadata": {},
     "output_type": "execute_result"
    }
   ],
   "source": [
    "bm = @benchmark $numpy_sum($x)"
   ]
  },
  {
   "cell_type": "code",
   "execution_count": 27,
   "id": "3a43938a",
   "metadata": {},
   "outputs": [
    {
     "data": {
      "text/plain": [
       "0.586629"
      ]
     },
     "execution_count": 27,
     "metadata": {},
     "output_type": "execute_result"
    }
   ],
   "source": [
    "# store median runtime (in miliseconds)\n",
    "benchmark_result[\"Python numpy\"] = median(bm.times) / 1e6"
   ]
  },
  {
   "cell_type": "markdown",
   "id": "24d5dfca",
   "metadata": {},
   "source": [
    "## Summary"
   ]
  },
  {
   "cell_type": "code",
   "execution_count": 28,
   "id": "a11ee44f",
   "metadata": {
    "tags": []
   },
   "outputs": [
    {
     "data": {
      "text/plain": [
       "Dict{Any, Any} with 4 entries:\n",
       "  \"R builtin\"      => 2.62052\n",
       "  \"Julia builtin\"  => 0.52932\n",
       "  \"Python builtin\" => 85.5125\n",
       "  \"Python numpy\"   => 0.586629"
      ]
     },
     "execution_count": 28,
     "metadata": {},
     "output_type": "execute_result"
    }
   ],
   "source": [
    "benchmark_result"
   ]
  }
 ],
 "metadata": {
  "kernelspec": {
   "display_name": "Julia 1.6.0",
   "language": "julia",
   "name": "julia-1.6"
  },
  "language_info": {
   "file_extension": ".jl",
   "mimetype": "application/julia",
   "name": "julia",
   "version": "1.6.0"
  }
 },
 "nbformat": 4,
 "nbformat_minor": 5
}
