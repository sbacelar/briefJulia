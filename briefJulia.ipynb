{
 "cells": [
  {
   "cell_type": "code",
   "execution_count": 64,
   "metadata": {
    "tags": []
   },
   "outputs": [
    {
     "name": "stdout",
     "output_type": "stream",
     "text": [
      "Julia Version 1.6.0\n",
      "Commit f9720dc2eb (2021-03-24 12:55 UTC)\n",
      "Platform Info:\n",
      "  OS: macOS (x86_64-apple-darwin19.6.0)\n",
      "  CPU: Intel(R) Core(TM) i5-4258U CPU @ 2.40GHz\n",
      "  WORD_SIZE: 64\n",
      "  LIBM: libopenlibm\n",
      "  LLVM: libLLVM-11.0.1 (ORCJIT, haswell)\n"
     ]
    }
   ],
   "source": [
    "versioninfo()"
   ]
  },
  {
   "cell_type": "markdown",
   "metadata": {},
   "source": [
    "# Introduction to Julia\n",
    "\n",
    "## Julia language: *\"looks like Python, feels like Lisp, runs like C\"*.\n",
    "- created in 2009 at MIT (solve the two language problem)\n",
    "- version 1.0 in late 2018. Now in version 1.61\n",
    "- The two language problem: performance versus simplicity (and also metaprogramming)\n",
    "- What is Julia, and [where it is used](https://juliacomputing.com/case-studies/). \n",
    "\n",
    "\n",
    "## [Why We Created Julia](https://julialang.org/blog/2012/02/why-we-created-julia/)\n",
    "\n",
    "### Proclamation by the creators:\n",
    "\n",
    "We want a language that's open source, with a liberal license. We want the speed of C with the dynamism of Ruby. We want a language that's homoiconic, with true macros like Lisp, but with obvious, familiar mathematical notation like Matlab. We want something as usable for general programming as Python, as easy for statistics as R, as natural for string processing as Perl, as powerful for linear algebra as Matlab, as good at gluing programs together as the shell. Something that is dirt simple to learn, yet keeps the most serious hackers happy. We want it interactive and we want it compiled.\n",
    "\n",
    "## Two faces of the same coin\n",
    "\n",
    "### [The Julia Programming Language](https://julialang.org/)\n",
    "\n",
    "### [Julia Computing](https://juliacomputing.com/)\n",
    "\n",
    "Monetization.\n",
    "\n",
    "# How to learn Julia\n",
    "\n",
    "## 1. Documentation\n",
    "\n",
    "- [Julia official documentation](https://docs.julialang.org/en/v1/)\n",
    "- Julia as a second language. See [Noteworthy Differences from other Languages](https://docs.julialang.org/en/v1/manual/noteworthy-differences/#Noteworthy-Differences-from-other-Languages)(e.g. MATLAB, R, Python)\n",
    "- [Wikibook](https://en.wikibooks.org/wiki/Introducing_Julia)\n",
    "- [QuantEcon cheatsheet](https://cheatsheets.quantecon.org/)\n",
    "\n",
    "### Fast learning\n",
    "\n",
    "- [Learn X in Y minutes where X = Julia](https://learnxinyminutes.com/docs/julia/)\n",
    "- [The Fast Track to Julia](https://juliadocs.github.io/Julia-Cheat-Sheet/)\n",
    "\n",
    "### Statistics\n",
    "\n",
    "- [Statistics with Julia](https://statisticswithjulia.org) - the book\n",
    "- [Julia for Data Science by Huda Nassar](https://www.youtube.com/watch?v=AXgLWumAOhk&list=PLP8iPy9hna6QuDTt11Xxonnfal91JhqjO) - YouTube\n",
    "- [An Introduction to Statistical Learning with Applications in R (ISLR)-- with Julia](https://github.com/tndoan/ISLR.jl) - `R` to `Julia`\n",
    "- [Andrew Ng Machine Learning Course -- with Julia](https://github.com/hpoit/ML-Coursera) - `Octave` to `Julia`\n",
    "\n",
    "## 2. Community\n",
    "\n",
    "- [Discourse](https://discourse.julialang.org/)\n",
    "- Slack or free [Zulip](https://julialang.zulipchat.com/login/#)\n",
    "- [StackOverFlow](https://stackoverflow.com/questions/tagged/julia)\n",
    "\n",
    "### Exercises with mentoring\n",
    "- [Exercism](https://exercism.io/)\n",
    "\n",
    "## 3. Tooling\n",
    "\n",
    "- REPL (Read, Execute, Print, Loop) - modes: package (`]`), shell (`;`), help (`?`).\n",
    "- [Visual Studio Code](https://www.julia-vscode.org/) (install Julia extension)\n",
    "- Jupyter notebook or Jupyter lab (JuPyteR: Julia, Python, R)\n",
    "\n",
    "## Other sources of info\n",
    "\n",
    "### Beginners\n",
    "- [Julia for talented amateurs](https://www.youtube.com/c/juliafortalentedamateurs/playlists)\n",
    "\n",
    "### Intermediate\n",
    "- [Quantitative Economics with Julia](https://julia.quantecon.org/)\n",
    "- [A Deep Introduction to Julia for Data Science and Scientific Computing](http://ucidatascienceinitiative.github.io/IntroToJulia/)\n",
    "\n",
    "### MIT class using `Pluto` (reactive Jupyter)\n",
    "- [Introduction to Computational Thinking](https://computationalthinking.mit.edu/Spring21/)"
   ]
  },
  {
   "cell_type": "markdown",
   "metadata": {},
   "source": [
    "# Julia ecosystem\n",
    "- [JuliaLang](https://julialang.org/)\n",
    "- [JuliaHub](https://juliahub.com/lp/)\n",
    "- [Julia Observer](https://juliaobserver.com/packages)\n",
    "\n",
    "### Noteworthy packages\n",
    "### Package manager\n",
    "### Environments"
   ]
  },
  {
   "cell_type": "markdown",
   "metadata": {},
   "source": [
    "# Syntax"
   ]
  },
  {
   "cell_type": "markdown",
   "metadata": {},
   "source": [
    "## Using Unicode (`\\symbol TAB`)"
   ]
  },
  {
   "cell_type": "code",
   "execution_count": 9,
   "metadata": {
    "tags": []
   },
   "outputs": [
    {
     "data": {
      "text/plain": [
       "\"😺 says meow\""
      ]
     },
     "execution_count": 9,
     "metadata": {},
     "output_type": "execute_result"
    }
   ],
   "source": [
    "α = \"\\alpha\"\n",
    "β = 5\n",
    "\n",
    "cat = \"😺 says meow\""
   ]
  },
  {
   "cell_type": "markdown",
   "metadata": {
    "tags": []
   },
   "source": [
    "## No need for curly braces `{}` or white space"
   ]
  },
  {
   "cell_type": "code",
   "execution_count": 12,
   "metadata": {},
   "outputs": [
    {
     "name": "stdout",
     "output_type": "stream",
     "text": [
      "2\n",
      "4\n",
      "6\n"
     ]
    }
   ],
   "source": [
    "for i ∈ 1:3     # \\in\n",
    "    println(2i) # no space between constant and variable\n",
    "end"
   ]
  },
  {
   "cell_type": "markdown",
   "metadata": {},
   "source": [
    "## Type annotations `::`, abstract numbers, everything is an expression"
   ]
  },
  {
   "cell_type": "code",
   "execution_count": 12,
   "metadata": {},
   "outputs": [
    {
     "data": {
      "text/plain": [
       "giveMeHalf (generic function with 1 method)"
      ]
     },
     "execution_count": 12,
     "metadata": {},
     "output_type": "execute_result"
    }
   ],
   "source": [
    "function giveMeHalf(a::Number)  # type annotation (number is abstract)\n",
    "    a / 2                       # no need for return (returns last expression)\n",
    "end"
   ]
  },
  {
   "cell_type": "code",
   "execution_count": 13,
   "metadata": {},
   "outputs": [
    {
     "data": {
      "text/plain": [
       "(2.0, 3.25, 1.5707963267948966, 1//8)"
      ]
     },
     "execution_count": 13,
     "metadata": {},
     "output_type": "execute_result"
    }
   ],
   "source": [
    "tupleResult = (giveMeHalf(4), giveMeHalf(6.5), giveMeHalf(π), giveMeHalf(1//4))"
   ]
  },
  {
   "cell_type": "code",
   "execution_count": 14,
   "metadata": {
    "tags": []
   },
   "outputs": [
    {
     "data": {
      "text/plain": [
       "(Int64, Float64, Irrational{:π}, Rational{Int64})"
      ]
     },
     "execution_count": 14,
     "metadata": {},
     "output_type": "execute_result"
    }
   ],
   "source": [
    "tupleTypes = (typeof(4), typeof(6.5), typeof(π), typeof(1//4))"
   ]
  },
  {
   "cell_type": "code",
   "execution_count": 15,
   "metadata": {},
   "outputs": [
    {
     "ename": "LoadError",
     "evalue": "MethodError: no method matching giveMeHalf(::String)\n\u001b[0mClosest candidates are:\n\u001b[0m  giveMeHalf(\u001b[91m::Number\u001b[39m) at In[12]:1",
     "output_type": "error",
     "traceback": [
      "MethodError: no method matching giveMeHalf(::String)\n\u001b[0mClosest candidates are:\n\u001b[0m  giveMeHalf(\u001b[91m::Number\u001b[39m) at In[12]:1",
      "",
      "Stacktrace:",
      " [1] top-level scope",
      "   @ In[15]:1",
      " [2] eval",
      "   @ ./boot.jl:360 [inlined]",
      " [3] include_string(mapexpr::typeof(REPL.softscope), mod::Module, code::String, filename::String)",
      "   @ Base ./loading.jl:1094"
     ]
    }
   ],
   "source": [
    "giveMeHalf(\"cake\")"
   ]
  },
  {
   "cell_type": "markdown",
   "metadata": {},
   "source": [
    "# Types"
   ]
  },
  {
   "cell_type": "markdown",
   "metadata": {},
   "source": [
    "## Primitive (Int64, Int32), Abstract (Integer), Composite"
   ]
  },
  {
   "cell_type": "markdown",
   "metadata": {},
   "source": [
    "### Composite type"
   ]
  },
  {
   "cell_type": "code",
   "execution_count": 21,
   "metadata": {},
   "outputs": [],
   "source": [
    "struct MyType           # not mutable\n",
    "    x\n",
    "    y::Integer\n",
    "    z::AbstractFloat\n",
    "end"
   ]
  },
  {
   "cell_type": "code",
   "execution_count": 22,
   "metadata": {},
   "outputs": [
    {
     "data": {
      "text/plain": [
       "DataType"
      ]
     },
     "execution_count": 22,
     "metadata": {},
     "output_type": "execute_result"
    }
   ],
   "source": [
    "typeof(MyType)"
   ]
  },
  {
   "cell_type": "code",
   "execution_count": 23,
   "metadata": {
    "tags": []
   },
   "outputs": [
    {
     "data": {
      "text/plain": [
       "(:x, :y, :z)"
      ]
     },
     "execution_count": 23,
     "metadata": {},
     "output_type": "execute_result"
    }
   ],
   "source": [
    "fieldnames(MyType)"
   ]
  },
  {
   "cell_type": "code",
   "execution_count": 24,
   "metadata": {},
   "outputs": [
    {
     "data": {
      "text/plain": [
       "Symbol"
      ]
     },
     "execution_count": 24,
     "metadata": {},
     "output_type": "execute_result"
    }
   ],
   "source": [
    "typeof(:x)"
   ]
  },
  {
   "cell_type": "markdown",
   "metadata": {},
   "source": [
    "Populate MyType with a `constructor`"
   ]
  },
  {
   "cell_type": "code",
   "execution_count": 25,
   "metadata": {},
   "outputs": [
    {
     "data": {
      "text/plain": [
       "MyType(\"dog\", 2, 3.5)"
      ]
     },
     "execution_count": 25,
     "metadata": {},
     "output_type": "execute_result"
    }
   ],
   "source": [
    "mt = MyType(\"dog\", 2, 3.5)"
   ]
  },
  {
   "cell_type": "code",
   "execution_count": 26,
   "metadata": {},
   "outputs": [
    {
     "data": {
      "text/plain": [
       "MyType"
      ]
     },
     "execution_count": 26,
     "metadata": {},
     "output_type": "execute_result"
    }
   ],
   "source": [
    "typeof(mt)"
   ]
  },
  {
   "cell_type": "code",
   "execution_count": 27,
   "metadata": {},
   "outputs": [
    {
     "data": {
      "text/plain": [
       "\"dog\""
      ]
     },
     "execution_count": 27,
     "metadata": {},
     "output_type": "execute_result"
    }
   ],
   "source": [
    "mt.x"
   ]
  },
  {
   "cell_type": "markdown",
   "metadata": {},
   "source": [
    "# Data structures"
   ]
  },
  {
   "cell_type": "markdown",
   "metadata": {},
   "source": [
    "### Same info using a `Dictionary`, a `Tuple`, a `Named Tuple` and an `Array`"
   ]
  },
  {
   "cell_type": "code",
   "execution_count": 28,
   "metadata": {},
   "outputs": [
    {
     "data": {
      "text/plain": [
       "3-element Vector{Any}:\n",
       "  \"dog\"\n",
       " 2\n",
       " 3.5"
      ]
     },
     "execution_count": 28,
     "metadata": {},
     "output_type": "execute_result"
    }
   ],
   "source": [
    "d = Dict('x' => \"dog\", 'y' => 2, 'z' => 3.5)\n",
    "tp = (\"dog\", 2, 3.5)                            # non-mutable\n",
    "ntp = (x = \"dog\", y = 2, z = 3.5)\n",
    "a = [\"dog\", 2, 3.5]                             # mutable"
   ]
  },
  {
   "cell_type": "markdown",
   "metadata": {},
   "source": [
    "### Use of memory"
   ]
  },
  {
   "cell_type": "code",
   "execution_count": 12,
   "metadata": {},
   "outputs": [
    {
     "data": {
      "text/latex": [
       "\\begin{tabular}\n",
       "{l | r | l}\n",
       "name & size & summary \\\\\n",
       "\\hline\n",
       "Base &  & Module \\\\\n",
       "Core &  & Module \\\\\n",
       "Main &  & Module \\\\\n",
       "a & 91 bytes & 3-element Vector\\{Any\\} \\\\\n",
       "d & 419 bytes & Dict\\{Char, Any\\} with 3 entries \\\\\n",
       "ntp & 35 bytes & NamedTuple\\{(:x, :y, :z), Tuple\\{String, Int64, Float64\\}\\} \\\\\n",
       "tp & 35 bytes & Tuple\\{String, Int64, Float64\\} \\\\\n",
       "α & 13 bytes & 5-codeunit String \\\\\n",
       "😺 & 12 bytes & 4-codeunit String \\\\\n",
       "\\end{tabular}\n"
      ],
      "text/markdown": [
       "| name |      size | summary                                                 |\n",
       "|:---- | ---------:|:------------------------------------------------------- |\n",
       "| Base |           | Module                                                  |\n",
       "| Core |           | Module                                                  |\n",
       "| Main |           | Module                                                  |\n",
       "| a    |  91 bytes | 3-element Vector{Any}                                   |\n",
       "| d    | 419 bytes | Dict{Char, Any} with 3 entries                          |\n",
       "| ntp  |  35 bytes | NamedTuple{(:x, :y, :z), Tuple{String, Int64, Float64}} |\n",
       "| tp   |  35 bytes | Tuple{String, Int64, Float64}                           |\n",
       "| α    |  13 bytes | 5-codeunit String                                       |\n",
       "| 😺    |  12 bytes | 4-codeunit String                                       |\n"
      ],
      "text/plain": [
       "  name      size summary                                                \n",
       "  –––– ––––––––– –––––––––––––––––––––––––––––––––––––––––––––––––––––––\n",
       "  Base           Module                                                 \n",
       "  Core           Module                                                 \n",
       "  Main           Module                                                 \n",
       "  a     91 bytes 3-element Vector{Any}                                  \n",
       "  d    419 bytes Dict{Char, Any} with 3 entries                         \n",
       "  ntp   35 bytes NamedTuple{(:x, :y, :z), Tuple{String, Int64, Float64}}\n",
       "  tp    35 bytes Tuple{String, Int64, Float64}                          \n",
       "  α     13 bytes 5-codeunit String                                      \n",
       "  😺     12 bytes 4-codeunit String                                      "
      ]
     },
     "execution_count": 12,
     "metadata": {},
     "output_type": "execute_result"
    }
   ],
   "source": [
    "varinfo()"
   ]
  },
  {
   "cell_type": "markdown",
   "metadata": {},
   "source": [
    "### Mutable type"
   ]
  },
  {
   "cell_type": "code",
   "execution_count": 30,
   "metadata": {},
   "outputs": [],
   "source": [
    "mutable struct MyMutable\n",
    "    x\n",
    "    y::Integer\n",
    "    z::AbstractFloat\n",
    "end"
   ]
  },
  {
   "cell_type": "code",
   "execution_count": 31,
   "metadata": {},
   "outputs": [
    {
     "data": {
      "text/plain": [
       "MyMutable(\"dog\", 2, 3.5)"
      ]
     },
     "execution_count": 31,
     "metadata": {},
     "output_type": "execute_result"
    }
   ],
   "source": [
    "mm = MyMutable(\"dog\", 2, 3.5)"
   ]
  },
  {
   "cell_type": "code",
   "execution_count": 32,
   "metadata": {},
   "outputs": [
    {
     "data": {
      "text/plain": [
       "\"cat\""
      ]
     },
     "execution_count": 32,
     "metadata": {},
     "output_type": "execute_result"
    }
   ],
   "source": [
    "mm.x = \"cat\""
   ]
  },
  {
   "cell_type": "code",
   "execution_count": 33,
   "metadata": {},
   "outputs": [
    {
     "ename": "LoadError",
     "evalue": "MethodError: no method matching Integer(::Irrational{:π})\n\u001b[0mClosest candidates are:\n\u001b[0m  (::Type{T})(::T) where T<:Number at boot.jl:760\n\u001b[0m  (::Type{T})(\u001b[91m::AbstractChar\u001b[39m) where T<:Union{AbstractChar, Number} at char.jl:50\n\u001b[0m  (::Type{T})(\u001b[91m::Base.TwicePrecision\u001b[39m) where T<:Number at twiceprecision.jl:243\n\u001b[0m  ...",
     "output_type": "error",
     "traceback": [
      "MethodError: no method matching Integer(::Irrational{:π})\n\u001b[0mClosest candidates are:\n\u001b[0m  (::Type{T})(::T) where T<:Number at boot.jl:760\n\u001b[0m  (::Type{T})(\u001b[91m::AbstractChar\u001b[39m) where T<:Union{AbstractChar, Number} at char.jl:50\n\u001b[0m  (::Type{T})(\u001b[91m::Base.TwicePrecision\u001b[39m) where T<:Number at twiceprecision.jl:243\n\u001b[0m  ...",
      "",
      "Stacktrace:",
      " [1] convert(#unused#::Type{Integer}, x::Irrational{:π})",
      "   @ Base ./number.jl:7",
      " [2] setproperty!(x::MyMutable, f::Symbol, v::Irrational{:π})",
      "   @ Base ./Base.jl:34",
      " [3] top-level scope",
      "   @ In[33]:1",
      " [4] eval",
      "   @ ./boot.jl:360 [inlined]",
      " [5] include_string(mapexpr::typeof(REPL.softscope), mod::Module, code::String, filename::String)",
      "   @ Base ./loading.jl:1094"
     ]
    }
   ],
   "source": [
    "mm.y = π # we can't do this because π is not an integer!"
   ]
  },
  {
   "cell_type": "markdown",
   "metadata": {},
   "source": [
    "but `mm.x = 5` works. Why? Because `x` is of type `Any` since we didn't defined it."
   ]
  },
  {
   "cell_type": "code",
   "execution_count": 34,
   "metadata": {},
   "outputs": [
    {
     "data": {
      "text/plain": [
       "5"
      ]
     },
     "execution_count": 34,
     "metadata": {},
     "output_type": "execute_result"
    }
   ],
   "source": [
    "mm.x = 5"
   ]
  },
  {
   "cell_type": "markdown",
   "metadata": {},
   "source": [
    "## Type stability\n",
    "Important for performance"
   ]
  },
  {
   "cell_type": "code",
   "execution_count": 35,
   "metadata": {},
   "outputs": [
    {
     "data": {
      "text/plain": [
       "unstable (generic function with 1 method)"
      ]
     },
     "execution_count": 35,
     "metadata": {},
     "output_type": "execute_result"
    }
   ],
   "source": [
    "function unstable(n)\n",
    "    s = 0\n",
    "    t = 1\n",
    "    for i in 1:n      # s += s/i is the same as s = s + s/i\n",
    "        s += s/i      # s is an integer only in the first pass. After that is a float\n",
    "        t = div(t, i)\n",
    "    end\n",
    "    return t\n",
    "end"
   ]
  },
  {
   "cell_type": "code",
   "execution_count": 36,
   "metadata": {},
   "outputs": [
    {
     "data": {
      "text/plain": [
       "stable (generic function with 1 method)"
      ]
     },
     "execution_count": 36,
     "metadata": {},
     "output_type": "execute_result"
    }
   ],
   "source": [
    "function stable(n)\n",
    "    s = 0.0\n",
    "    t = 1\n",
    "    for i in 1:n\n",
    "        s += s/i           # s is always a float\n",
    "        t = div(t, i)\n",
    "    end\n",
    "    return t\n",
    "end"
   ]
  },
  {
   "cell_type": "code",
   "execution_count": 37,
   "metadata": {},
   "outputs": [
    {
     "name": "stdout",
     "output_type": "stream",
     "text": [
      "  1.027487 seconds\n"
     ]
    },
    {
     "data": {
      "text/plain": [
       "0"
      ]
     },
     "execution_count": 37,
     "metadata": {},
     "output_type": "execute_result"
    }
   ],
   "source": [
    "@time unstable(10^8)"
   ]
  },
  {
   "cell_type": "code",
   "execution_count": 38,
   "metadata": {},
   "outputs": [
    {
     "name": "stdout",
     "output_type": "stream",
     "text": [
      "  0.962783 seconds\n"
     ]
    },
    {
     "data": {
      "text/plain": [
       "0"
      ]
     },
     "execution_count": 38,
     "metadata": {},
     "output_type": "execute_result"
    }
   ],
   "source": [
    "@time stable(10^8)"
   ]
  },
  {
   "cell_type": "code",
   "execution_count": 39,
   "metadata": {},
   "outputs": [
    {
     "name": "stdout",
     "output_type": "stream",
     "text": [
      "\t\u001b[0m.section\t\u001b[0m__TEXT\u001b[0m,\u001b[0m__text\u001b[0m,\u001b[0mregular\u001b[0m,\u001b[0mpure_instructions\n",
      "\u001b[90m; ┌ @ In[35]:1 within `unstable'\u001b[39m\n",
      "\t\u001b[96m\u001b[1mpushq\u001b[22m\u001b[39m\t\u001b[0m%rax\n",
      "\u001b[90m; │ @ In[35]:4 within `unstable'\u001b[39m\n",
      "\u001b[90m; │┌ @ range.jl:5 within `Colon'\u001b[39m\n",
      "\u001b[90m; ││┌ @ range.jl:287 within `UnitRange'\u001b[39m\n",
      "\u001b[90m; │││┌ @ range.jl:292 within `unitrange_last'\u001b[39m\n",
      "\t\u001b[96m\u001b[1mtestq\u001b[22m\u001b[39m\t\u001b[0m%rdi\u001b[0m, \u001b[0m%rdi\n",
      "\u001b[90m; │└└└\u001b[39m\n",
      "\t\u001b[96m\u001b[1mjle\u001b[22m\u001b[39m\t\u001b[91mL104\u001b[39m\n",
      "\u001b[90m; │ @ In[35] within `unstable'\u001b[39m\n",
      "\t\u001b[96m\u001b[1mmovq\u001b[22m\u001b[39m\t\u001b[0m%rdi\u001b[0m, \u001b[0m%rax\n",
      "\t\u001b[96m\u001b[1msarq\u001b[22m\u001b[39m\t\u001b[33m$63\u001b[39m\u001b[0m, \u001b[0m%rax\n",
      "\t\u001b[96m\u001b[1mandnq\u001b[22m\u001b[39m\t\u001b[0m%rdi\u001b[0m, \u001b[0m%rax\u001b[0m, \u001b[0m%rcx\n",
      "\t\u001b[96m\u001b[1mmovb\u001b[22m\u001b[39m\t\u001b[33m$1\u001b[39m\u001b[0m, \u001b[0m%dil\n",
      "\t\u001b[96m\u001b[1mmovl\u001b[22m\u001b[39m\t\u001b[33m$1\u001b[39m\u001b[0m, \u001b[0m%esi\n",
      "\t\u001b[96m\u001b[1mxorl\u001b[22m\u001b[39m\t\u001b[0m%edx\u001b[0m, \u001b[0m%edx\n",
      "\t\u001b[96m\u001b[1mmovl\u001b[22m\u001b[39m\t\u001b[33m$1\u001b[39m\u001b[0m, \u001b[0m%eax\n",
      "\u001b[90m; │ @ In[35]:5 within `unstable'\u001b[39m\n",
      "\t\u001b[96m\u001b[1mtestb\u001b[22m\u001b[39m\t\u001b[33m$1\u001b[39m\u001b[0m, \u001b[0m%dil\n",
      "\t\u001b[96m\u001b[1mje\u001b[22m\u001b[39m\t\u001b[91mL53\u001b[39m\n",
      "\t\u001b[96m\u001b[1mnopl\u001b[22m\u001b[39m\t\u001b[33m(\u001b[39m\u001b[0m%rax\u001b[0m,\u001b[0m%rax\u001b[33m)\u001b[39m\n",
      "\u001b[91mL48:\u001b[39m\n",
      "\t\u001b[96m\u001b[1mtestb\u001b[22m\u001b[39m\t\u001b[33m$1\u001b[39m\u001b[0m, \u001b[0m%dl\n",
      "\t\u001b[96m\u001b[1mjne\u001b[22m\u001b[39m\t\u001b[91mL111\u001b[39m\n",
      "\u001b[90m; │ @ In[35]:6 within `unstable'\u001b[39m\n",
      "\u001b[90m; │┌ @ int.jl:261 within `div'\u001b[39m\n",
      "\u001b[91mL53:\u001b[39m\n",
      "\t\u001b[96m\u001b[1mmovq\u001b[22m\u001b[39m\t\u001b[0m%rax\u001b[0m, \u001b[0m%rdx\n",
      "\t\u001b[96m\u001b[1morq\u001b[22m\u001b[39m\t\u001b[0m%rsi\u001b[0m, \u001b[0m%rdx\n",
      "\t\u001b[96m\u001b[1mshrq\u001b[22m\u001b[39m\t\u001b[33m$32\u001b[39m\u001b[0m, \u001b[0m%rdx\n",
      "\t\u001b[96m\u001b[1mje\u001b[22m\u001b[39m\t\u001b[91mL80\u001b[39m\n",
      "\t\u001b[96m\u001b[1mcqto\u001b[22m\u001b[39m\n",
      "\t\u001b[96m\u001b[1midivq\u001b[22m\u001b[39m\t\u001b[0m%rsi\n",
      "\u001b[90m; │└\u001b[39m\n",
      "\u001b[90m; │┌ @ range.jl:674 within `iterate'\u001b[39m\n",
      "\u001b[90m; ││┌ @ promotion.jl:410 within `=='\u001b[39m\n",
      "\t\u001b[96m\u001b[1mcmpq\u001b[22m\u001b[39m\t\u001b[0m%rsi\u001b[0m, \u001b[0m%rcx\n",
      "\t\u001b[96m\u001b[1mjne\u001b[22m\u001b[39m\t\u001b[91mL89\u001b[39m\n",
      "\t\u001b[96m\u001b[1mjmp\u001b[22m\u001b[39m\t\u001b[91mL109\u001b[39m\n",
      "\t\u001b[96m\u001b[1mnopl\u001b[22m\u001b[39m\t\u001b[33m(\u001b[39m\u001b[0m%rax\u001b[33m)\u001b[39m\n",
      "\u001b[90m; │└└\u001b[39m\n",
      "\u001b[90m; │┌ @ int.jl:261 within `div'\u001b[39m\n",
      "\u001b[91mL80:\u001b[39m\n",
      "\t\u001b[96m\u001b[1mxorl\u001b[22m\u001b[39m\t\u001b[0m%edx\u001b[0m, \u001b[0m%edx\n",
      "\t\u001b[96m\u001b[1mdivl\u001b[22m\u001b[39m\t\u001b[0m%esi\n",
      "\u001b[90m; │└\u001b[39m\n",
      "\u001b[90m; │┌ @ range.jl:674 within `iterate'\u001b[39m\n",
      "\u001b[90m; ││┌ @ promotion.jl:410 within `=='\u001b[39m\n",
      "\t\u001b[96m\u001b[1mcmpq\u001b[22m\u001b[39m\t\u001b[0m%rsi\u001b[0m, \u001b[0m%rcx\n",
      "\u001b[90m; │└└\u001b[39m\n",
      "\t\u001b[96m\u001b[1mje\u001b[22m\u001b[39m\t\u001b[91mL109\u001b[39m\n",
      "\u001b[90m; │┌ @ range.jl:674 within `iterate'\u001b[39m\n",
      "\u001b[91mL89:\u001b[39m\n",
      "\t\u001b[96m\u001b[1mincq\u001b[22m\u001b[39m\t\u001b[0m%rsi\n",
      "\t\u001b[96m\u001b[1mmovb\u001b[22m\u001b[39m\t\u001b[33m$1\u001b[39m\u001b[0m, \u001b[0m%dl\n",
      "\t\u001b[96m\u001b[1mxorl\u001b[22m\u001b[39m\t\u001b[0m%edi\u001b[0m, \u001b[0m%edi\n",
      "\u001b[90m; │└\u001b[39m\n",
      "\u001b[90m; │ @ In[35]:5 within `unstable'\u001b[39m\n",
      "\t\u001b[96m\u001b[1mtestb\u001b[22m\u001b[39m\t\u001b[33m$1\u001b[39m\u001b[0m, \u001b[0m%dil\n",
      "\t\u001b[96m\u001b[1mjne\u001b[22m\u001b[39m\t\u001b[91mL48\u001b[39m\n",
      "\t\u001b[96m\u001b[1mjmp\u001b[22m\u001b[39m\t\u001b[91mL53\u001b[39m\n",
      "\u001b[90m; │ @ In[35] within `unstable'\u001b[39m\n",
      "\u001b[91mL104:\u001b[39m\n",
      "\t\u001b[96m\u001b[1mmovl\u001b[22m\u001b[39m\t\u001b[33m$1\u001b[39m\u001b[0m, \u001b[0m%eax\n",
      "\u001b[90m; │ @ In[35]:8 within `unstable'\u001b[39m\n",
      "\u001b[91mL109:\u001b[39m\n",
      "\t\u001b[96m\u001b[1mpopq\u001b[22m\u001b[39m\t\u001b[0m%rcx\n",
      "\t\u001b[96m\u001b[1mretq\u001b[22m\u001b[39m\n",
      "\u001b[90m; │ @ In[35]:5 within `unstable'\u001b[39m\n",
      "\u001b[91mL111:\u001b[39m\n",
      "\t\u001b[96m\u001b[1mmovabsq\u001b[22m\u001b[39m\t\u001b[93m$jl_throw\u001b[39m\u001b[0m, \u001b[0m%rax\n",
      "\t\u001b[96m\u001b[1mmovabsq\u001b[22m\u001b[39m\t\u001b[93m$jl_system_image_data\u001b[39m\u001b[0m, \u001b[0m%rdi\n",
      "\t\u001b[96m\u001b[1mcallq\u001b[22m\u001b[39m\t\u001b[0m*\u001b[0m%rax\n",
      "\t\u001b[96m\u001b[1mnopw\u001b[22m\u001b[39m\t\u001b[0m%cs\u001b[0m:\u001b[33m(\u001b[39m\u001b[0m%rax\u001b[0m,\u001b[0m%rax\u001b[33m)\u001b[39m\n",
      "\u001b[90m; └\u001b[39m\n"
     ]
    }
   ],
   "source": [
    "@code_native unstable(100)"
   ]
  },
  {
   "cell_type": "code",
   "execution_count": 40,
   "metadata": {},
   "outputs": [
    {
     "name": "stdout",
     "output_type": "stream",
     "text": [
      "\t\u001b[0m.section\t\u001b[0m__TEXT\u001b[0m,\u001b[0m__text\u001b[0m,\u001b[0mregular\u001b[0m,\u001b[0mpure_instructions\n",
      "\u001b[90m; ┌ @ In[36]:4 within `stable'\u001b[39m\n",
      "\u001b[90m; │┌ @ range.jl:5 within `Colon'\u001b[39m\n",
      "\u001b[90m; ││┌ @ range.jl:287 within `UnitRange'\u001b[39m\n",
      "\u001b[90m; │││┌ @ range.jl:292 within `unitrange_last'\u001b[39m\n",
      "\t\u001b[96m\u001b[1mtestq\u001b[22m\u001b[39m\t\u001b[0m%rdi\u001b[0m, \u001b[0m%rdi\n",
      "\u001b[90m; │└└└\u001b[39m\n",
      "\t\u001b[96m\u001b[1mjle\u001b[22m\u001b[39m\t\u001b[91mL71\u001b[39m\n",
      "\u001b[90m; │ @ In[36] within `stable'\u001b[39m\n",
      "\t\u001b[96m\u001b[1mmovq\u001b[22m\u001b[39m\t\u001b[0m%rdi\u001b[0m, \u001b[0m%rax\n",
      "\t\u001b[96m\u001b[1msarq\u001b[22m\u001b[39m\t\u001b[33m$63\u001b[39m\u001b[0m, \u001b[0m%rax\n",
      "\t\u001b[96m\u001b[1mandnq\u001b[22m\u001b[39m\t\u001b[0m%rdi\u001b[0m, \u001b[0m%rax\u001b[0m, \u001b[0m%rcx\n",
      "\u001b[90m; │ @ In[36]:6 within `stable'\u001b[39m\n",
      "\t\u001b[96m\u001b[1mnegq\u001b[22m\u001b[39m\t\u001b[0m%rcx\n",
      "\t\u001b[96m\u001b[1mmovl\u001b[22m\u001b[39m\t\u001b[33m$1\u001b[39m\u001b[0m, \u001b[0m%esi\n",
      "\t\u001b[96m\u001b[1mmovl\u001b[22m\u001b[39m\t\u001b[33m$1\u001b[39m\u001b[0m, \u001b[0m%eax\n",
      "\t\u001b[96m\u001b[1mjmp\u001b[22m\u001b[39m\t\u001b[91mL53\u001b[39m\n",
      "\u001b[90m; │┌ @ int.jl:261 within `div'\u001b[39m\n",
      "\u001b[91mL32:\u001b[39m\n",
      "\t\u001b[96m\u001b[1mcqto\u001b[22m\u001b[39m\n",
      "\t\u001b[96m\u001b[1midivq\u001b[22m\u001b[39m\t\u001b[0m%rsi\n",
      "\u001b[90m; │└\u001b[39m\n",
      "\u001b[90m; │┌ @ range.jl:674 within `iterate'\u001b[39m\n",
      "\u001b[90m; ││┌ @ promotion.jl:410 within `=='\u001b[39m\n",
      "\u001b[91mL37:\u001b[39m\n",
      "\t\u001b[96m\u001b[1mleaq\u001b[22m\u001b[39m\t\u001b[33m(\u001b[39m\u001b[0m%rcx\u001b[0m,\u001b[0m%rsi\u001b[33m)\u001b[39m\u001b[0m, \u001b[0m%rdx\n",
      "\t\u001b[96m\u001b[1mincq\u001b[22m\u001b[39m\t\u001b[0m%rdx\n",
      "\u001b[90m; ││└\u001b[39m\n",
      "\t\u001b[96m\u001b[1mincq\u001b[22m\u001b[39m\t\u001b[0m%rsi\n",
      "\u001b[90m; ││┌ @ promotion.jl:410 within `=='\u001b[39m\n",
      "\t\u001b[96m\u001b[1mcmpq\u001b[22m\u001b[39m\t\u001b[33m$1\u001b[39m\u001b[0m, \u001b[0m%rdx\n",
      "\u001b[90m; │└└\u001b[39m\n",
      "\t\u001b[96m\u001b[1mje\u001b[22m\u001b[39m\t\u001b[91mL76\u001b[39m\n",
      "\u001b[90m; │┌ @ int.jl:261 within `div'\u001b[39m\n",
      "\u001b[91mL53:\u001b[39m\n",
      "\t\u001b[96m\u001b[1mmovq\u001b[22m\u001b[39m\t\u001b[0m%rax\u001b[0m, \u001b[0m%rdx\n",
      "\t\u001b[96m\u001b[1morq\u001b[22m\u001b[39m\t\u001b[0m%rsi\u001b[0m, \u001b[0m%rdx\n",
      "\t\u001b[96m\u001b[1mshrq\u001b[22m\u001b[39m\t\u001b[33m$32\u001b[39m\u001b[0m, \u001b[0m%rdx\n",
      "\t\u001b[96m\u001b[1mjne\u001b[22m\u001b[39m\t\u001b[91mL32\u001b[39m\n",
      "\t\u001b[96m\u001b[1mxorl\u001b[22m\u001b[39m\t\u001b[0m%edx\u001b[0m, \u001b[0m%edx\n",
      "\t\u001b[96m\u001b[1mdivl\u001b[22m\u001b[39m\t\u001b[0m%esi\n",
      "\t\u001b[96m\u001b[1mjmp\u001b[22m\u001b[39m\t\u001b[91mL37\u001b[39m\n",
      "\u001b[90m; │└\u001b[39m\n",
      "\u001b[90m; │ @ int.jl within `stable'\u001b[39m\n",
      "\u001b[91mL71:\u001b[39m\n",
      "\t\u001b[96m\u001b[1mmovl\u001b[22m\u001b[39m\t\u001b[33m$1\u001b[39m\u001b[0m, \u001b[0m%eax\n",
      "\u001b[90m; │ @ In[36]:8 within `stable'\u001b[39m\n",
      "\u001b[91mL76:\u001b[39m\n",
      "\t\u001b[96m\u001b[1mretq\u001b[22m\u001b[39m\n",
      "\t\u001b[96m\u001b[1mnopl\u001b[22m\u001b[39m\t\u001b[33m(\u001b[39m\u001b[0m%rax\u001b[33m)\u001b[39m\n",
      "\u001b[90m; └\u001b[39m\n"
     ]
    }
   ],
   "source": [
    "@code_native stable(100)"
   ]
  },
  {
   "cell_type": "markdown",
   "metadata": {},
   "source": [
    "111 (unstable) versus 76 (stable) lines."
   ]
  },
  {
   "cell_type": "markdown",
   "metadata": {},
   "source": [
    "## Multiple dispatch\n",
    "(see https://github.com/Datseris/Zero2Hero-JuliaWorkshop)"
   ]
  },
  {
   "cell_type": "markdown",
   "metadata": {},
   "source": [
    "Multiple dispatch is the core programming paradigm of Julia.\n",
    "\n",
    "### What is Multiple Dispatch?\n",
    "Some handy definitions\n",
    "\n",
    "- *function*: the name of the \"function / process\" we are referring to.\n",
    "    - ex. function: `+` (addition)\n",
    "- *method*: what actually happens when we call the function with a specific combination of arguments.\n",
    "    - ex. `4 + 5` (sum of 2 Int64) versus `(2 + 3im) + (3 + 2im)` (sum of 2 Complex). The same function `+` uses two different methods\n",
    "\n",
    "Dispatch means that when a function call occurs, the language decides somehow which of the function methods have to be used.\n",
    "\n",
    "\n",
    "### How it works\n",
    "\n",
    "Multiple dispatch follows easy-to-understand rules based on the Julia type system hierarchy.\n",
    "\n",
    "Upon calling a function, Julia will try to find the method that is *most specific across all arguments*. \n",
    "\n",
    "This means that if a method is defined for both the abstract type combination, as well as the concrete type combination, Julia will always call the more concrete one. "
   ]
  },
  {
   "cell_type": "markdown",
   "metadata": {},
   "source": [
    "### A simple example\n",
    "#### Define some types"
   ]
  },
  {
   "cell_type": "code",
   "execution_count": 42,
   "metadata": {},
   "outputs": [],
   "source": [
    "abstract type Animal end # this is an abstract type. a supertype of the below\n",
    "\n",
    "struct Dog <: Animal   # this is a concrete type. a subtype of the above\n",
    "    name::String\n",
    "end\n",
    "\n",
    "struct Cat <: Animal\n",
    "    name::String\n",
    "end"
   ]
  },
  {
   "cell_type": "markdown",
   "metadata": {},
   "source": [
    "Now let's instantiate four animals"
   ]
  },
  {
   "cell_type": "code",
   "execution_count": 45,
   "metadata": {},
   "outputs": [],
   "source": [
    "fido = Dog(\"Fido\")\n",
    "rex = Dog(\"Rex\")\n",
    "whiskers = Cat(\"Whiskers\")\n",
    "spotty = Cat(\"Spotty\");"
   ]
  },
  {
   "cell_type": "markdown",
   "metadata": {},
   "source": [
    "And finally, let's define some functions that take advantage of these `Animal` types, as well as multiple dispatch. Adding a method to a function is done by simply defining the function while also declaring the Types you add a method for (`::` is a type asserting operator):"
   ]
  },
  {
   "cell_type": "code",
   "execution_count": 47,
   "metadata": {},
   "outputs": [
    {
     "data": {
      "text/plain": [
       "meets (generic function with 1 method)"
      ]
     },
     "execution_count": 47,
     "metadata": {},
     "output_type": "execute_result"
    }
   ],
   "source": [
    "function encounter(a::Animal, b::Animal)\n",
    "    verb = meets(a, b)\n",
    "    println(\"$(a.name) meets $(b.name) and $verb\")    # $(..) is a string interpolation\n",
    "end\n",
    "\n",
    "meets(a::Animal, b::Animal) = \"passes by\"             # one-liner function"
   ]
  },
  {
   "cell_type": "markdown",
   "metadata": {},
   "source": [
    "`meets` is a method like `+`:"
   ]
  },
  {
   "cell_type": "code",
   "execution_count": 23,
   "metadata": {},
   "outputs": [
    {
     "data": {
      "text/plain": [
       "9"
      ]
     },
     "execution_count": 23,
     "metadata": {},
     "output_type": "execute_result"
    }
   ],
   "source": [
    "+(5::Int64, 4::Int64)        # Polish prefix notation: operator precedes operands"
   ]
  },
  {
   "cell_type": "markdown",
   "metadata": {},
   "source": [
    "Both of the above functions are defined on the abstract type level."
   ]
  },
  {
   "cell_type": "code",
   "execution_count": 24,
   "metadata": {},
   "outputs": [
    {
     "name": "stdout",
     "output_type": "stream",
     "text": [
      "Fido meets Rex and passes by\n",
      "Fido meets Spotty and passes by\n"
     ]
    }
   ],
   "source": [
    "encounter(fido, rex)\n",
    "encounter(fido, spotty)"
   ]
  },
  {
   "cell_type": "markdown",
   "metadata": {},
   "source": [
    "We now define more specific methods like so:"
   ]
  },
  {
   "cell_type": "code",
   "execution_count": 48,
   "metadata": {},
   "outputs": [
    {
     "data": {
      "text/plain": [
       "meets (generic function with 5 methods)"
      ]
     },
     "execution_count": 48,
     "metadata": {},
     "output_type": "execute_result"
    }
   ],
   "source": [
    "meets(a::Dog, b::Dog) = \"sniffs\"\n",
    "meets(a::Dog, b::Cat) = \"chases\"\n",
    "meets(a::Cat, b::Dog) = \"hisses\"\n",
    "meets(a::Cat, b::Cat) = \"slinks\""
   ]
  },
  {
   "cell_type": "markdown",
   "metadata": {},
   "source": [
    "*(notice how the amount of methods of `meets` increased)*"
   ]
  },
  {
   "cell_type": "code",
   "execution_count": 50,
   "metadata": {},
   "outputs": [
    {
     "data": {
      "text/html": [
       "# 5 methods for generic function <b>meets</b>:<ul><li> meets(a::<b>Dog</b>, b::<b>Dog</b>) in Main at In[48]:1</li> <li> meets(a::<b>Dog</b>, b::<b>Cat</b>) in Main at In[48]:2</li> <li> meets(a::<b>Cat</b>, b::<b>Dog</b>) in Main at In[48]:3</li> <li> meets(a::<b>Cat</b>, b::<b>Cat</b>) in Main at In[48]:4</li> <li> meets(a::<b>Animal</b>, b::<b>Animal</b>) in Main at In[47]:6</li> </ul>"
      ],
      "text/plain": [
       "# 5 methods for generic function \"meets\":\n",
       "[1] meets(a::Dog, b::Dog) in Main at In[48]:1\n",
       "[2] meets(a::Dog, b::Cat) in Main at In[48]:2\n",
       "[3] meets(a::Cat, b::Dog) in Main at In[48]:3\n",
       "[4] meets(a::Cat, b::Cat) in Main at In[48]:4\n",
       "[5] meets(a::Animal, b::Animal) in Main at In[47]:6"
      ]
     },
     "execution_count": 50,
     "metadata": {},
     "output_type": "execute_result"
    }
   ],
   "source": [
    "methods(meets)"
   ]
  },
  {
   "cell_type": "code",
   "execution_count": 51,
   "metadata": {},
   "outputs": [
    {
     "name": "stdout",
     "output_type": "stream",
     "text": [
      "Fido meets Rex and sniffs\n",
      "Fido meets Whiskers and chases\n",
      "Whiskers meets Spotty and slinks\n",
      "Spotty meets Rex and hisses\n"
     ]
    }
   ],
   "source": [
    "encounter(fido, rex)\n",
    "encounter(fido, whiskers)\n",
    "encounter(whiskers, spotty)\n",
    "encounter(spotty, rex)"
   ]
  },
  {
   "cell_type": "markdown",
   "metadata": {},
   "source": [
    "## Inspecting dispatch\n",
    "\n",
    "To see how many methods a function has to it, and from which module they come, use `methods`:"
   ]
  },
  {
   "cell_type": "code",
   "execution_count": 52,
   "metadata": {},
   "outputs": [
    {
     "data": {
      "text/plain": [
       "+ (generic function with 190 methods)"
      ]
     },
     "execution_count": 52,
     "metadata": {},
     "output_type": "execute_result"
    }
   ],
   "source": [
    "+"
   ]
  },
  {
   "cell_type": "code",
   "execution_count": 53,
   "metadata": {},
   "outputs": [],
   "source": [
    "methods(+);"
   ]
  },
  {
   "cell_type": "markdown",
   "metadata": {},
   "source": [
    "### Using the macro `@which` to get the method that is used"
   ]
  },
  {
   "cell_type": "code",
   "execution_count": 54,
   "metadata": {},
   "outputs": [
    {
     "data": {
      "text/html": [
       "+(z::<b>Complex</b>, w::<b>Complex</b>) in Base at <a href=\"https://github.com/JuliaLang/julia/tree/f9720dc2ebd6cd9e3086365f281e62506444ef37/base/complex.jl#L275\" target=\"_blank\">complex.jl:275</a>"
      ],
      "text/plain": [
       "+(z::Complex, w::Complex) in Base at complex.jl:275"
      ]
     },
     "execution_count": 54,
     "metadata": {},
     "output_type": "execute_result"
    }
   ],
   "source": [
    "@which +((4+3im), (3+2im))"
   ]
  },
  {
   "cell_type": "markdown",
   "metadata": {},
   "source": [
    "## Function specialization\n",
    "(based on C. Reckauckas http://ucidatascienceinitiative.github.io/IntroToJulia/)"
   ]
  },
  {
   "cell_type": "code",
   "execution_count": 56,
   "metadata": {},
   "outputs": [
    {
     "data": {
      "text/plain": [
       "f (generic function with 1 method)"
      ]
     },
     "execution_count": 56,
     "metadata": {},
     "output_type": "execute_result"
    }
   ],
   "source": [
    "function f(x,y)\n",
    "    2x + y\n",
    "end"
   ]
  },
  {
   "cell_type": "code",
   "execution_count": 57,
   "metadata": {},
   "outputs": [
    {
     "data": {
      "text/plain": [
       "7"
      ]
     },
     "execution_count": 57,
     "metadata": {},
     "output_type": "execute_result"
    }
   ],
   "source": [
    "f(2,3)"
   ]
  },
  {
   "cell_type": "code",
   "execution_count": 58,
   "metadata": {},
   "outputs": [
    {
     "data": {
      "text/plain": [
       "7.0"
      ]
     },
     "execution_count": 58,
     "metadata": {},
     "output_type": "execute_result"
    }
   ],
   "source": [
    "f(2.0,3)"
   ]
  },
  {
   "cell_type": "markdown",
   "metadata": {},
   "source": [
    "The code changes (specializes) for the two methods:"
   ]
  },
  {
   "cell_type": "code",
   "execution_count": 59,
   "metadata": {
    "tags": []
   },
   "outputs": [
    {
     "name": "stdout",
     "output_type": "stream",
     "text": [
      "\u001b[90m;  @ In[56]:1 within `f'\u001b[39m\n",
      "\u001b[95mdefine\u001b[39m \u001b[36mi64\u001b[39m \u001b[93m@julia_f_3036\u001b[39m\u001b[33m(\u001b[39m\u001b[36mi64\u001b[39m \u001b[95msignext\u001b[39m \u001b[0m%0\u001b[0m, \u001b[36mi64\u001b[39m \u001b[95msignext\u001b[39m \u001b[0m%1\u001b[33m)\u001b[39m \u001b[33m{\u001b[39m\n",
      "\u001b[91mtop:\u001b[39m\n",
      "\u001b[90m;  @ In[56]:2 within `f'\u001b[39m\n",
      "\u001b[90m; ┌ @ int.jl:88 within `*'\u001b[39m\n",
      "   \u001b[0m%2 \u001b[0m= \u001b[96m\u001b[1mshl\u001b[22m\u001b[39m \u001b[36mi64\u001b[39m \u001b[0m%0\u001b[0m, \u001b[33m1\u001b[39m\n",
      "\u001b[90m; └\u001b[39m\n",
      "\u001b[90m; ┌ @ int.jl:87 within `+'\u001b[39m\n",
      "   \u001b[0m%3 \u001b[0m= \u001b[96m\u001b[1madd\u001b[22m\u001b[39m \u001b[36mi64\u001b[39m \u001b[0m%2\u001b[0m, \u001b[0m%1\n",
      "\u001b[90m; └\u001b[39m\n",
      "  \u001b[96m\u001b[1mret\u001b[22m\u001b[39m \u001b[36mi64\u001b[39m \u001b[0m%3\n",
      "\u001b[33m}\u001b[39m\n"
     ]
    }
   ],
   "source": [
    "@code_llvm f(2,3)"
   ]
  },
  {
   "cell_type": "code",
   "execution_count": 60,
   "metadata": {},
   "outputs": [
    {
     "name": "stdout",
     "output_type": "stream",
     "text": [
      "\u001b[90m;  @ In[56]:1 within `f'\u001b[39m\n",
      "\u001b[95mdefine\u001b[39m \u001b[36mdouble\u001b[39m \u001b[93m@julia_f_3051\u001b[39m\u001b[33m(\u001b[39m\u001b[36mdouble\u001b[39m \u001b[0m%0\u001b[0m, \u001b[36mi64\u001b[39m \u001b[95msignext\u001b[39m \u001b[0m%1\u001b[33m)\u001b[39m \u001b[33m{\u001b[39m\n",
      "\u001b[91mtop:\u001b[39m\n",
      "\u001b[90m;  @ In[56]:2 within `f'\u001b[39m\n",
      "\u001b[90m; ┌ @ promotion.jl:322 within `*' @ float.jl:332\u001b[39m\n",
      "   \u001b[0m%2 \u001b[0m= \u001b[96m\u001b[1mfmul\u001b[22m\u001b[39m \u001b[36mdouble\u001b[39m \u001b[0m%0\u001b[0m, \u001b[33m2.000000e+00\u001b[39m\n",
      "\u001b[90m; └\u001b[39m\n",
      "\u001b[90m; ┌ @ promotion.jl:321 within `+'\u001b[39m\n",
      "\u001b[90m; │┌ @ promotion.jl:292 within `promote'\u001b[39m\n",
      "\u001b[90m; ││┌ @ promotion.jl:269 within `_promote'\u001b[39m\n",
      "\u001b[90m; │││┌ @ number.jl:7 within `convert'\u001b[39m\n",
      "\u001b[90m; ││││┌ @ float.jl:94 within `Float64'\u001b[39m\n",
      "       \u001b[0m%3 \u001b[0m= \u001b[96m\u001b[1msitofp\u001b[22m\u001b[39m \u001b[36mi64\u001b[39m \u001b[0m%1 \u001b[95mto\u001b[39m \u001b[36mdouble\u001b[39m\n",
      "\u001b[90m; │└└└└\u001b[39m\n",
      "\u001b[90m; │ @ promotion.jl:321 within `+' @ float.jl:326\u001b[39m\n",
      "   \u001b[0m%4 \u001b[0m= \u001b[96m\u001b[1mfadd\u001b[22m\u001b[39m \u001b[36mdouble\u001b[39m \u001b[0m%2\u001b[0m, \u001b[0m%3\n",
      "\u001b[90m; └\u001b[39m\n",
      "  \u001b[96m\u001b[1mret\u001b[22m\u001b[39m \u001b[36mdouble\u001b[39m \u001b[0m%4\n",
      "\u001b[33m}\u001b[39m\n"
     ]
    }
   ],
   "source": [
    "@code_llvm f(2.0,3)"
   ]
  },
  {
   "cell_type": "markdown",
   "metadata": {
    "tags": []
   },
   "source": [
    "### Type stability"
   ]
  },
  {
   "cell_type": "code",
   "execution_count": 61,
   "metadata": {},
   "outputs": [
    {
     "name": "stdout",
     "output_type": "stream",
     "text": [
      "Variables\n",
      "  #self#\u001b[36m::Core.Const(f)\u001b[39m\n",
      "  x\u001b[36m::Float64\u001b[39m\n",
      "  y\u001b[36m::Int64\u001b[39m\n",
      "\n",
      "Body\u001b[36m::Float64\u001b[39m\n",
      "\u001b[90m1 ─\u001b[39m %1 = (2 * x)\u001b[36m::Float64\u001b[39m\n",
      "\u001b[90m│  \u001b[39m %2 = (%1 + y)\u001b[36m::Float64\u001b[39m\n",
      "\u001b[90m└──\u001b[39m      return %2\n"
     ]
    }
   ],
   "source": [
    "@code_warntype f(2.0, 3)         # helpful to find type uncertainty"
   ]
  },
  {
   "cell_type": "markdown",
   "metadata": {},
   "source": [
    "For a deeper approach see [18.337 - Parallel Computing and Scientific Machine Learning](https://github.com/mitmath/18337)"
   ]
  },
  {
   "cell_type": "markdown",
   "metadata": {
    "tags": []
   },
   "source": [
    "### Ambiguity\n",
    "\n",
    "How to decide for a method?"
   ]
  },
  {
   "cell_type": "code",
   "execution_count": 62,
   "metadata": {},
   "outputs": [
    {
     "data": {
      "text/plain": [
       "g (generic function with 2 methods)"
      ]
     },
     "execution_count": 62,
     "metadata": {},
     "output_type": "execute_result"
    }
   ],
   "source": [
    "function g(x::Float64, y::Number)\n",
    "    6x + y\n",
    "end\n",
    "\n",
    "function g(x::Number, y::Float64)\n",
    "    8x + y\n",
    "end"
   ]
  },
  {
   "cell_type": "code",
   "execution_count": 63,
   "metadata": {},
   "outputs": [
    {
     "ename": "LoadError",
     "evalue": "MethodError: g(::Float64, ::Float64) is ambiguous. Candidates:\n  g(x::Float64, y::Number) in Main at In[62]:1\n  g(x::Number, y::Float64) in Main at In[62]:5\nPossible fix, define\n  g(::\u001b[0mFloat64, ::\u001b[0mFloat64)",
     "output_type": "error",
     "traceback": [
      "MethodError: g(::Float64, ::Float64) is ambiguous. Candidates:\n  g(x::Float64, y::Number) in Main at In[62]:1\n  g(x::Number, y::Float64) in Main at In[62]:5\nPossible fix, define\n  g(::\u001b[0mFloat64, ::\u001b[0mFloat64)",
      "",
      "Stacktrace:",
      " [1] top-level scope",
      "   @ In[63]:1",
      " [2] eval",
      "   @ ./boot.jl:360 [inlined]",
      " [3] include_string(mapexpr::typeof(REPL.softscope), mod::Module, code::String, filename::String)",
      "   @ Base ./loading.jl:1094"
     ]
    }
   ],
   "source": [
    "g(2.0, 3.0) # g is ambiguous"
   ]
  },
  {
   "cell_type": "markdown",
   "metadata": {},
   "source": [
    "### [Type hierarchy (only for Julia numbers)](https://en.wikibooks.org/wiki/Introducing_Julia/Types#/media/File:Julia-number-type-hierarchy.svg)"
   ]
  },
  {
   "cell_type": "markdown",
   "metadata": {},
   "source": [
    "## Syntactical Expressions"
   ]
  },
  {
   "cell_type": "code",
   "execution_count": 36,
   "metadata": {},
   "outputs": [
    {
     "data": {
      "text/plain": [
       "1×3 Matrix{Int64}:\n",
       " 6  7  8"
      ]
     },
     "execution_count": 36,
     "metadata": {},
     "output_type": "execute_result"
    }
   ],
   "source": [
    "# array comprehension\n",
    "\n",
    "w = [1 2 3]\n",
    "A = [v + 5 for v in w]        # `w`is an iterable object"
   ]
  },
  {
   "cell_type": "markdown",
   "metadata": {},
   "source": [
    "# generator expression\n",
    "(with a little $\\LaTeX$ show off 😄) \n",
    "$$\n",
    "    \\sum_{n=1}^{1000} \\frac{1}{n^2}\n",
    "$$"
   ]
  },
  {
   "cell_type": "code",
   "execution_count": 41,
   "metadata": {},
   "outputs": [
    {
     "data": {
      "text/plain": [
       "1.6439345666815615"
      ]
     },
     "execution_count": 41,
     "metadata": {},
     "output_type": "execute_result"
    }
   ],
   "source": [
    "sum(1/n^2 for n=1:1000)"
   ]
  },
  {
   "cell_type": "markdown",
   "metadata": {},
   "source": [
    "## Mutating and non-mutating functions"
   ]
  },
  {
   "cell_type": "code",
   "execution_count": 12,
   "metadata": {},
   "outputs": [
    {
     "data": {
      "text/plain": [
       "3-element Vector{Int64}:\n",
       " 3\n",
       " 5\n",
       " 2"
      ]
     },
     "execution_count": 12,
     "metadata": {},
     "output_type": "execute_result"
    }
   ],
   "source": [
    "v = [3, 5, 2]"
   ]
  },
  {
   "cell_type": "code",
   "execution_count": 13,
   "metadata": {},
   "outputs": [
    {
     "data": {
      "text/plain": [
       "3-element Vector{Int64}:\n",
       " 2\n",
       " 3\n",
       " 5"
      ]
     },
     "execution_count": 13,
     "metadata": {},
     "output_type": "execute_result"
    }
   ],
   "source": [
    "sort(v)       # non-mutating"
   ]
  },
  {
   "cell_type": "code",
   "execution_count": 14,
   "metadata": {},
   "outputs": [
    {
     "data": {
      "text/plain": [
       "3-element Vector{Int64}:\n",
       " 3\n",
       " 5\n",
       " 2"
      ]
     },
     "execution_count": 14,
     "metadata": {},
     "output_type": "execute_result"
    }
   ],
   "source": [
    "v"
   ]
  },
  {
   "cell_type": "code",
   "execution_count": 15,
   "metadata": {},
   "outputs": [
    {
     "data": {
      "text/plain": [
       "3-element Vector{Int64}:\n",
       " 2\n",
       " 3\n",
       " 5"
      ]
     },
     "execution_count": 15,
     "metadata": {},
     "output_type": "execute_result"
    }
   ],
   "source": [
    "sort!(v)      # mutating"
   ]
  },
  {
   "cell_type": "code",
   "execution_count": 16,
   "metadata": {},
   "outputs": [
    {
     "data": {
      "text/plain": [
       "3-element Vector{Int64}:\n",
       " 2\n",
       " 3\n",
       " 5"
      ]
     },
     "execution_count": 16,
     "metadata": {},
     "output_type": "execute_result"
    }
   ],
   "source": [
    "v"
   ]
  },
  {
   "cell_type": "markdown",
   "metadata": {},
   "source": [
    "## Higher order functions\n",
    "### map"
   ]
  },
  {
   "cell_type": "code",
   "execution_count": 17,
   "metadata": {},
   "outputs": [
    {
     "data": {
      "text/plain": [
       "#17 (generic function with 1 method)"
      ]
     },
     "execution_count": 17,
     "metadata": {},
     "output_type": "execute_result"
    }
   ],
   "source": [
    "x -> x^3          # anonymous function"
   ]
  },
  {
   "cell_type": "markdown",
   "metadata": {},
   "source": [
    "One-liner inlined"
   ]
  },
  {
   "cell_type": "code",
   "execution_count": 18,
   "metadata": {
    "tags": []
   },
   "outputs": [
    {
     "data": {
      "text/plain": [
       "3-element Vector{Int64}:\n",
       "  1\n",
       "  8\n",
       " 27"
      ]
     },
     "execution_count": 18,
     "metadata": {},
     "output_type": "execute_result"
    }
   ],
   "source": [
    "map(x -> x^3, [1, 2, 3])"
   ]
  },
  {
   "cell_type": "markdown",
   "metadata": {},
   "source": [
    "Multi-liner inlined"
   ]
  },
  {
   "cell_type": "code",
   "execution_count": 44,
   "metadata": {},
   "outputs": [
    {
     "data": {
      "text/plain": [
       "3-element Vector{Int64}:\n",
       "  1\n",
       "  8\n",
       " 27"
      ]
     },
     "execution_count": 44,
     "metadata": {},
     "output_type": "execute_result"
    }
   ],
   "source": [
    "map([1, 2, 3]) do x\n",
    "    x^3\n",
    "end"
   ]
  },
  {
   "cell_type": "markdown",
   "metadata": {},
   "source": [
    "## A closure (function that returns a function)"
   ]
  },
  {
   "cell_type": "code",
   "execution_count": 45,
   "metadata": {},
   "outputs": [
    {
     "data": {
      "text/plain": [
       "adder (generic function with 1 method)"
      ]
     },
     "execution_count": 45,
     "metadata": {},
     "output_type": "execute_result"
    }
   ],
   "source": [
    "function adder(x)\n",
    "    return y->x+y         # anonymous function\n",
    "end"
   ]
  },
  {
   "cell_type": "code",
   "execution_count": 46,
   "metadata": {},
   "outputs": [
    {
     "data": {
      "text/plain": [
       "#23 (generic function with 1 method)"
      ]
     },
     "execution_count": 46,
     "metadata": {},
     "output_type": "execute_result"
    }
   ],
   "source": [
    "k = adder(2)              # k is a function"
   ]
  },
  {
   "cell_type": "code",
   "execution_count": 47,
   "metadata": {
    "tags": []
   },
   "outputs": [
    {
     "data": {
      "text/plain": [
       "5"
      ]
     },
     "execution_count": 47,
     "metadata": {},
     "output_type": "execute_result"
    }
   ],
   "source": [
    "k(3)"
   ]
  },
  {
   "cell_type": "markdown",
   "metadata": {},
   "source": [
    "### broadcast\n",
    "Two ways to broadcast"
   ]
  },
  {
   "cell_type": "code",
   "execution_count": 21,
   "metadata": {},
   "outputs": [
    {
     "data": {
      "text/plain": [
       "3-element Vector{Int64}:\n",
       " 1\n",
       " 4\n",
       " 9"
      ]
     },
     "execution_count": 21,
     "metadata": {},
     "output_type": "execute_result"
    }
   ],
   "source": [
    "f(x) = x^2\n",
    "broadcast(f, [1, 2, 3])"
   ]
  },
  {
   "cell_type": "code",
   "execution_count": 22,
   "metadata": {},
   "outputs": [
    {
     "data": {
      "text/plain": [
       "3-element Vector{Int64}:\n",
       " 1\n",
       " 4\n",
       " 9"
      ]
     },
     "execution_count": 22,
     "metadata": {},
     "output_type": "execute_result"
    }
   ],
   "source": [
    "f.([1, 2, 3]) # dot syntax"
   ]
  },
  {
   "cell_type": "code",
   "execution_count": 48,
   "metadata": {},
   "outputs": [
    {
     "ename": "LoadError",
     "evalue": "UndefVarError: f not defined",
     "output_type": "error",
     "traceback": [
      "UndefVarError: f not defined",
      "",
      "Stacktrace:",
      " [1] top-level scope",
      "   @ In[48]:1",
      " [2] eval",
      "   @ ./boot.jl:360 [inlined]",
      " [3] include_string(mapexpr::typeof(REPL.softscope), mod::Module, code::String, filename::String)",
      "   @ Base ./loading.jl:1094"
     ]
    }
   ],
   "source": [
    "f([1, 2, 3]) # we can't square a vector"
   ]
  },
  {
   "cell_type": "markdown",
   "metadata": {},
   "source": [
    "# Julia secret sauce"
   ]
  },
  {
   "cell_type": "markdown",
   "metadata": {},
   "source": [
    "- It is no Just in Time compilation\n",
    "- It is not Type annotation    "
   ]
  },
  {
   "cell_type": "markdown",
   "metadata": {},
   "source": [
    "## It is the design of the language\n",
    "- Designed from the ground up for LLVM (Compiler Infrastructure)\n",
    "- Multiple dispatch (it's the only main language to have it)\n",
    "    \n",
    "This results in:\n",
    "\n",
    "    - high performance\n",
    "    - composability (combination of the code between packages/modules/developers)"
   ]
  },
  {
   "cell_type": "code",
   "execution_count": null,
   "metadata": {},
   "outputs": [],
   "source": []
  }
 ],
 "metadata": {
  "kernelspec": {
   "display_name": "Julia 1.6.0",
   "language": "julia",
   "name": "julia-1.6"
  },
  "language_info": {
   "file_extension": ".jl",
   "mimetype": "application/julia",
   "name": "julia",
   "version": "1.6.0"
  }
 },
 "nbformat": 4,
 "nbformat_minor": 4
}
